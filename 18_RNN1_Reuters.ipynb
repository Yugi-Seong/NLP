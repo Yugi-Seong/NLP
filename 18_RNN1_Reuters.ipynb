{
 "cells": [
  {
   "cell_type": "code",
   "execution_count": 1,
   "metadata": {},
   "outputs": [
    {
     "name": "stderr",
     "output_type": "stream",
     "text": [
      "Using TensorFlow backend.\n"
     ]
    },
    {
     "name": "stdout",
     "output_type": "stream",
     "text": [
      "Downloading data from https://s3.amazonaws.com/text-datasets/reuters.npz\n",
      "2113536/2110848 [==============================] - 4s 2us/step\n",
      "46 카테고리\n",
      "8982 학습용 뉴스 기사\n",
      "2246 테스트용 뉴스 기사\n",
      "[1, 2, 2, 8, 43, 10, 447, 5, 25, 207, 270, 5, 2, 111, 16, 369, 186, 90, 67, 7, 89, 5, 19, 102, 6, 19, 124, 15, 90, 67, 84, 22, 482, 26, 7, 48, 4, 49, 8, 864, 39, 209, 154, 6, 151, 6, 83, 11, 15, 22, 155, 11, 15, 7, 48, 9, 2, 2, 504, 6, 258, 6, 272, 11, 15, 22, 134, 44, 11, 15, 16, 8, 197, 2, 90, 67, 52, 29, 209, 30, 32, 132, 6, 109, 15, 17, 12]\n"
     ]
    }
   ],
   "source": [
    "import numpy\n",
    "import tensorflow as tf\n",
    "import matplotlib.pyplot as plt\n",
    "\n",
    "# 로이터 뉴스 데이터셋 불러오기\n",
    "from keras.datasets import reuters\n",
    "from keras.models import Sequential\n",
    "#from tensorflow.keras.models import Sequential\n",
    "#from tensorflow.keras.layers import Dense,LSTM,Embedding\n",
    "from keras.layers import Dense, LSTM, Embedding\n",
    "from keras.preprocessing import sequence\n",
    "from keras.utils import np_utils\n",
    "\n",
    "# seed 값 설정\n",
    "seed = 0\n",
    "numpy.random.seed(seed)\n",
    "tf.random.set_seed(3)\n",
    "\n",
    "# 불러온 데이터를 학습셋, 테스트셋으로 나누기\n",
    "(X_train, Y_train), (X_test, Y_test) = reuters.load_data(num_words=1000, test_split=0.2)\n",
    "\n",
    "# 데이터 확인하기\n",
    "category = numpy.max(Y_train) + 1\n",
    "print(category, '카테고리')\n",
    "print(len(X_train), '학습용 뉴스 기사')\n",
    "print(len(X_test), '테스트용 뉴스 기사')\n",
    "print(X_train[0])"
   ]
  },
  {
   "cell_type": "code",
   "execution_count": 2,
   "metadata": {},
   "outputs": [],
   "source": [
    "# 데이터 전처리\n",
    "x_train = sequence.pad_sequences(X_train, maxlen=100)\n",
    "x_test = sequence.pad_sequences(X_test, maxlen=100)\n",
    "y_train = np_utils.to_categorical(Y_train)\n",
    "y_test = np_utils.to_categorical(Y_test)"
   ]
  },
  {
   "cell_type": "code",
   "execution_count": 3,
   "metadata": {},
   "outputs": [
    {
     "name": "stderr",
     "output_type": "stream",
     "text": [
      "C:\\Users\\ad\\anaconda3\\envs\\deep2\\lib\\site-packages\\tensorflow\\python\\framework\\indexed_slices.py:434: UserWarning: Converting sparse IndexedSlices to a dense Tensor of unknown shape. This may consume a large amount of memory.\n",
      "  \"Converting sparse IndexedSlices to a dense Tensor of unknown shape. \"\n"
     ]
    },
    {
     "name": "stdout",
     "output_type": "stream",
     "text": [
      "Train on 8982 samples, validate on 2246 samples\n",
      "Epoch 1/20\n",
      "8982/8982 [==============================] - 7s 811us/step - loss: 2.5409 - accuracy: 0.3743 - val_loss: 2.0280 - val_accuracy: 0.4987\n",
      "Epoch 2/20\n",
      "8982/8982 [==============================] - 7s 739us/step - loss: 1.9400 - accuracy: 0.4915 - val_loss: 2.0473 - val_accuracy: 0.4991\n",
      "Epoch 3/20\n",
      "8982/8982 [==============================] - 7s 739us/step - loss: 1.8286 - accuracy: 0.5263 - val_loss: 1.8248 - val_accuracy: 0.5205\n",
      "Epoch 4/20\n",
      "8982/8982 [==============================] - 7s 752us/step - loss: 1.7500 - accuracy: 0.5460 - val_loss: 1.7353 - val_accuracy: 0.5588\n",
      "Epoch 5/20\n",
      "8982/8982 [==============================] - 7s 731us/step - loss: 1.6877 - accuracy: 0.5672 - val_loss: 1.6780 - val_accuracy: 0.5766\n",
      "Epoch 6/20\n",
      "8982/8982 [==============================] - 7s 737us/step - loss: 1.5482 - accuracy: 0.6083 - val_loss: 1.5505 - val_accuracy: 0.6064\n",
      "Epoch 7/20\n",
      "8982/8982 [==============================] - 7s 725us/step - loss: 1.4188 - accuracy: 0.6360 - val_loss: 1.4638 - val_accuracy: 0.6367\n",
      "Epoch 8/20\n",
      "8982/8982 [==============================] - 7s 725us/step - loss: 1.3998 - accuracy: 0.6427 - val_loss: 1.4225 - val_accuracy: 0.6492\n",
      "Epoch 9/20\n",
      "8982/8982 [==============================] - 7s 741us/step - loss: 1.2854 - accuracy: 0.6669 - val_loss: 1.4853 - val_accuracy: 0.6331\n",
      "Epoch 10/20\n",
      "8982/8982 [==============================] - 7s 728us/step - loss: 1.2212 - accuracy: 0.6843 - val_loss: 1.3604 - val_accuracy: 0.6429\n",
      "Epoch 11/20\n",
      "8982/8982 [==============================] - 7s 735us/step - loss: 1.1455 - accuracy: 0.7017 - val_loss: 1.3140 - val_accuracy: 0.6763\n",
      "Epoch 12/20\n",
      "8982/8982 [==============================] - 7s 734us/step - loss: 1.0970 - accuracy: 0.7198 - val_loss: 1.3042 - val_accuracy: 0.6776\n",
      "Epoch 13/20\n",
      "8982/8982 [==============================] - 6s 723us/step - loss: 1.0387 - accuracy: 0.7354 - val_loss: 1.2885 - val_accuracy: 0.6821\n",
      "Epoch 14/20\n",
      "8982/8982 [==============================] - 6s 721us/step - loss: 0.9970 - accuracy: 0.7455 - val_loss: 1.2673 - val_accuracy: 0.6866\n",
      "Epoch 15/20\n",
      "8982/8982 [==============================] - 7s 733us/step - loss: 0.9370 - accuracy: 0.7622 - val_loss: 1.2454 - val_accuracy: 0.6897\n",
      "Epoch 16/20\n",
      "8982/8982 [==============================] - 7s 724us/step - loss: 0.9081 - accuracy: 0.7714 - val_loss: 1.2374 - val_accuracy: 0.6977\n",
      "Epoch 17/20\n",
      "8982/8982 [==============================] - 7s 731us/step - loss: 0.8652 - accuracy: 0.7786 - val_loss: 1.2290 - val_accuracy: 0.7173\n",
      "Epoch 18/20\n",
      "8982/8982 [==============================] - 7s 741us/step - loss: 0.8358 - accuracy: 0.7896 - val_loss: 1.2131 - val_accuracy: 0.7017\n",
      "Epoch 19/20\n",
      "8982/8982 [==============================] - 7s 724us/step - loss: 0.7989 - accuracy: 0.7984 - val_loss: 1.2590 - val_accuracy: 0.7008\n",
      "Epoch 20/20\n",
      "8982/8982 [==============================] - 6s 717us/step - loss: 0.7803 - accuracy: 0.8053 - val_loss: 1.2211 - val_accuracy: 0.7159\n",
      "2246/2246 [==============================] - 1s 293us/step\n",
      "\n",
      " Test Accuracy: 0.7159\n"
     ]
    },
    {
     "data": {
      "image/png": "[encoded data removed]",
      "text/plain": [
       "<Figure size 432x288 with 1 Axes>"
      ]
     },
     "metadata": {
      "needs_background": "light"
     },
     "output_type": "display_data"
    }
   ],
   "source": [
    "# 모델의 설정\n",
    "model = Sequential()\n",
    "model.add(Embedding(1000, 100))\n",
    "model.add(LSTM(100, activation='tanh'))\n",
    "model.add(Dense(46, activation='softmax'))\n",
    "\n",
    "# 모델의 컴파일\n",
    "model.compile(loss='categorical_crossentropy',\n",
    "            optimizer='adam',\n",
    "            metrics=['accuracy'])\n",
    "\n",
    "# 모델의 실행\n",
    "history = model.fit(x_train, y_train, batch_size=100, \n",
    "                    epochs=20, validation_data=(x_test, y_test))\n",
    "\n",
    "# 테스트 정확도 출력\n",
    "print(\"\\n Test Accuracy: %.4f\" % (model.evaluate(x_test, y_test)[1]))\n",
    "\n",
    "# 테스트 셋의 오차\n",
    "y_vloss = history.history['val_loss']\n",
    "\n",
    "# 학습셋의 오차\n",
    "y_loss = history.history['loss']\n",
    "\n",
    "# 그래프로 표현\n",
    "x_len = numpy.arange(len(y_loss))\n",
    "plt.plot(x_len, y_vloss, marker='.', c=\"red\", label='Testset_loss')\n",
    "plt.plot(x_len, y_loss, marker='.', c=\"blue\", label='Trainset_loss')\n",
    "\n",
    "# 그래프에 그리드를 주고 레이블을 표시\n",
    "plt.legend(loc='upper right')\n",
    "plt.grid()\n",
    "plt.xlabel('epoch')\n",
    "plt.ylabel('loss')\n",
    "plt.show()"
   ]
  },
  {
   "cell_type": "code",
   "execution_count": null,
   "metadata": {},
   "outputs": [],
   "source": []
  }
 ],
 "metadata": {
  "kernelspec": {
   "display_name": "Python 3",
   "language": "python",
   "name": "python3"
  },
  "language_info": {
   "codemirror_mode": {
    "name": "ipython",
    "version": 3
   },
   "file_extension": ".py",
   "mimetype": "text/x-python",
   "name": "python",
   "nbconvert_exporter": "python",
   "pygments_lexer": "ipython3",
   "version": "3.6.10"
  },
  "varInspector": {
   "cols": {
    "lenName": 16,
    "lenType": 16,
    "lenVar": 40
   },
   "kernels_config": {
    "python": {
     "delete_cmd_postfix": "",
     "delete_cmd_prefix": "del ",
     "library": "var_list.py",
     "varRefreshCmd": "print(var_dic_list())"
    },
    "r": {
     "delete_cmd_postfix": ") ",
     "delete_cmd_prefix": "rm(",
     "library": "var_list.r",
     "varRefreshCmd": "cat(var_dic_list()) "
    }
   },
   "types_to_exclude": [
    "module",
    "function",
    "builtin_function_or_method",
    "instance",
    "_Feature"
   ],
   "window_display": false
  }
 },
 "nbformat": 4,
 "nbformat_minor": 2
}
